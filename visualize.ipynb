{
 "cells": [
  {
   "cell_type": "code",
   "execution_count": 118,
   "id": "initial_id",
   "metadata": {
    "collapsed": true,
    "ExecuteTime": {
     "end_time": "2024-05-12T04:33:03.667707Z",
     "start_time": "2024-05-12T04:33:03.638116Z"
    }
   },
   "outputs": [],
   "source": [
    "import matplotlib.pyplot as plt\n",
    "from pathlib import Path\n",
    "from scipy.special import softmax\n",
    "import numpy as np\n",
    "def read_tsv(file_name):\n",
    "    normalized_results = []\n",
    "    results = Path(file_name).read_text().strip().split('\\n')[1:]\n",
    "    for result in results:\n",
    "        result_sent = [float(x) for x in result.split('\\t')]\n",
    "        normalized = softmax(result_sent)\n",
    "        normalized_results.append(normalized)\n",
    "    return normalized_results\n",
    "\n",
    "verb_m1_mbert = read_tsv('verb_m1_mbert.tsv')\n",
    "verb_f1_mbert = read_tsv('verb_f1_mbert.tsv')\n",
    "\n",
    "verb_m1_xlm = read_tsv('verb_m1_xlm.tsv')\n",
    "verb_f1_xlm = read_tsv('verb_f1_xlm.tsv')\n",
    "\n",
    "verb_m1_glm = read_tsv('verb_m1_glm.tsv')\n",
    "verb_f1_glm = read_tsv('verb_f1_glm.tsv')\n",
    "\n",
    "verb_m1_bert = read_tsv('verb_m1_bert.tsv')\n",
    "verb_f1_bert = read_tsv('verb_f1_bert.tsv')\n",
    "\n",
    "\n",
    "amb_m1_mbert = read_tsv('amb_m1_mbert.tsv')\n",
    "amb_f1_mbert = read_tsv('amb_f1_mbert.tsv')\n",
    "\n",
    "amb_f1_bert = read_tsv('amb_f1_bert.tsv')\n",
    "amb_m1_bert = read_tsv('amb_f1_bert.tsv')\n",
    "\n",
    "amb_f1_glm = read_tsv('amb_f1_glm.tsv')\n",
    "amb_m1_glm = read_tsv('amb_m1_glm.tsv')\n",
    "\n",
    "amb_f1_xlm = read_tsv('amb_f1_xlm.tsv')\n",
    "amb_m1_xlm = read_tsv('amb_m1_xlm.tsv')\n",
    "\n",
    "\n",
    "subj_m1_mbert = read_tsv('subj_m1_mbert.tsv')\n",
    "subj_f1_mbert = read_tsv('subj_f1_mbert.tsv')\n",
    "\n",
    "subj_f1_bert = read_tsv('subj_f1_bert.tsv')\n",
    "subj_m1_bert = read_tsv('subj_f1_bert.tsv')\n",
    "\n",
    "subj_f1_glm = read_tsv('subj_f1_glm.tsv')\n",
    "subj_m1_glm = read_tsv('subj_m1_glm.tsv')\n",
    "\n",
    "subj_f1_xlm = read_tsv('subj_f1_xlm.tsv')\n",
    "subj_m1_xlm = read_tsv('subj_m1_xlm.tsv')"
   ]
  },
  {
   "cell_type": "code",
   "outputs": [],
   "source": [
    "import matplotlib.pyplot as pl\n",
    "pl\n",
    "# there are 4 individuals, each one tested under 3 different settings\n",
    "\n",
    "# --- Random data, e.g. results per algorithm:\n",
    "\n",
    "# Invidual 1\n",
    "d1_1 = list(np.array(verb_m1_bert).transpose())[0]\n",
    "d1_2 = list(np.array(verb_m1_bert).transpose())[1]\n",
    "d1_3 = list(np.array(verb_f1_bert).transpose())[0]\n",
    "d1_4 = list(np.array(verb_f1_bert).transpose())[1]\n",
    "# Individual 2\n",
    "d2_1 = list(np.array(verb_m1_mbert).transpose())[0]\n",
    "d2_2 = list(np.array(verb_m1_mbert).transpose())[1]\n",
    "d2_3 = list(np.array(verb_f1_mbert).transpose())[0]\n",
    "d2_4 = list(np.array(verb_f1_mbert).transpose())[1]\n",
    "# Individual 3\n",
    "\n",
    "d3_1 = list(np.array(verb_m1_xlm).transpose())[0]\n",
    "d3_2 = list(np.array(verb_m1_xlm).transpose())[1]\n",
    "d3_3 = list(np.array(verb_f1_xlm).transpose())[0]\n",
    "d3_4 = list(np.array(verb_f1_xlm).transpose())[1]\n",
    "# Individual 4\n",
    "d4_1 = list(np.array(verb_m1_glm).transpose())[0]\n",
    "d4_2 = list(np.array(verb_m1_glm).transpose())[1]\n",
    "d4_3 = list(np.array(verb_f1_glm).transpose())[0]\n",
    "d4_4 = list(np.array(verb_f1_glm).transpose())[1]\n",
    "\n",
    "\n",
    "d11_1 = list(np.array(amb_m1_bert).transpose())[0]\n",
    "d11_2 = list(np.array(amb_m1_bert).transpose())[1]\n",
    "d11_3 = list(np.array(amb_f1_bert).transpose())[0]\n",
    "d11_4 = list(np.array(amb_f1_bert).transpose())[1]\n",
    "# Individual 2\n",
    "d21_1 = list(np.array(amb_m1_mbert).transpose())[0]\n",
    "d21_2 = list(np.array(amb_m1_mbert).transpose())[1]\n",
    "d21_3 = list(np.array(amb_f1_mbert).transpose())[0]\n",
    "d21_4 = list(np.array(amb_f1_mbert).transpose())[1]\n",
    "# Individual 3\n",
    "\n",
    "d31_1 = list(np.array(amb_m1_xlm).transpose())[0]\n",
    "d31_2 = list(np.array(amb_m1_xlm).transpose())[1]\n",
    "d31_3 = list(np.array(amb_f1_xlm).transpose())[0]\n",
    "d31_4 = list(np.array(amb_f1_xlm).transpose())[1]\n",
    "# Individual 4\n",
    "d41_1 = list(np.array(amb_m1_glm).transpose())[0]\n",
    "d41_2 = list(np.array(amb_m1_glm).transpose())[1]\n",
    "d41_3 = list(np.array(amb_f1_glm).transpose())[0]\n",
    "d41_4 = list(np.array(amb_f1_glm).transpose())[1]\n",
    "\n",
    "d1_11 = list(np.array(subj_m1_bert).transpose())[0]\n",
    "d1_21 = list(np.array(subj_m1_bert).transpose())[1]\n",
    "d1_31 = list(np.array(subj_f1_bert).transpose())[0]\n",
    "d1_41 = list(np.array(subj_f1_bert).transpose())[1]\n",
    "# Individual 2\n",
    "d2_11 = list(np.array(subj_m1_mbert).transpose())[0]\n",
    "d2_21 = list(np.array(subj_m1_mbert).transpose())[1]\n",
    "d2_31 = list(np.array(subj_f1_mbert).transpose())[0]\n",
    "d2_41 = list(np.array(subj_f1_mbert).transpose())[1]\n",
    "# Individual 3\n",
    "\n",
    "d3_11 = list(np.array(subj_m1_xlm).transpose())[0]\n",
    "d3_21 = list(np.array(subj_m1_xlm).transpose())[1]\n",
    "d3_31 = list(np.array(subj_f1_xlm).transpose())[0]\n",
    "d3_41 = list(np.array(subj_f1_xlm).transpose())[1]\n",
    "# Individual 4\n",
    "d4_11 = list(np.array(subj_m1_glm).transpose())[0]\n",
    "d4_21 = list(np.array(subj_m1_glm).transpose())[1]\n",
    "d4_31 = list(np.array(subj_f1_glm).transpose())[0]\n",
    "d4_41 = list(np.array(subj_f1_glm).transpose())[1]\n",
    "\n",
    "# --- Combining your data:\n",
    "data_group1 = [d1_1, d2_1, d3_1, d4_1]\n",
    "data_group2 = [d1_2, d2_2, d3_2, d4_2]\n",
    "data_group3 = [d1_3, d3_2, d3_3, d4_3]\n",
    "data_group4 = [d1_4, d4_2, d3_4, d4_4]\n",
    "\n",
    "data_group11 = [d11_1, d21_1, d31_1, d41_1]\n",
    "data_group12 = [d11_2, d21_2, d31_2, d41_2]\n",
    "data_group13 = [d11_3, d31_2, d31_3, d41_3]\n",
    "data_group14 = [d11_4, d41_2, d31_4, d41_4]\n",
    "\n",
    "data_group111 = [d1_11, d2_11, d3_11, d4_11]\n",
    "data_group21 = [d1_21, d2_21, d3_21, d4_21]\n",
    "data_group31 = [d1_31, d3_21, d3_31, d4_31]\n",
    "data_group41 = [d1_41, d4_21, d3_41, d4_41]\n",
    "\n",
    "colors = ['#2C7BB6','#D7191C',  '#2C7BB6', '#D7191C']\n",
    "\n",
    "# we compare the performances of the 4 individuals within the same set of 3 settings \n",
    "data_groups = [data_group1, data_group2, data_group3, data_group4]\n",
    "data_groups1 = [data_group11, data_group12, data_group13, data_group14]\n",
    "data_groups11 = [data_group111, data_group21, data_group31, data_group41]\n",
    "# --- Labels for your data:\n",
    "labels_list = ['Chinese BERT','mBERT', 'XLM-R', 'Chat-GLM']\n",
    "width       = 1/len(labels_list)\n",
    "xlocations  = [ x*((1+ len(data_groups))*width) for x in range(len(data_group1)) ]\n",
    "\n",
    "ymin        = min ( [ val  for dg in data_groups  for data in dg for val in data ] )\n",
    "ymax        = max ( [ val  for dg in data_groups  for data in dg for val in data ])\n",
    "\n",
    "space = len(data_groups)/2\n",
    "offset = len(data_groups)/2\n",
    "\n",
    "\n"
   ],
   "metadata": {
    "collapsed": false,
    "ExecuteTime": {
     "end_time": "2024-05-12T05:33:37.608237Z",
     "start_time": "2024-05-12T05:33:37.572561Z"
    }
   },
   "id": "75d9af31094a6d23",
   "execution_count": 132
  },
  {
   "cell_type": "code",
   "outputs": [
    {
     "data": {
      "text/plain": "[array([0.25481315, 0.24851797, 0.25003245, 0.24663643]),\n array([0.25552606, 0.24933689, 0.24761953, 0.24751751]),\n array([0.25169427, 0.24905444, 0.25035348, 0.24889781]),\n array([0.25193371, 0.25145898, 0.24945153, 0.24715578]),\n array([0.25451072, 0.24644826, 0.25390753, 0.24513348]),\n array([0.252755  , 0.24872077, 0.25085415, 0.24767008]),\n array([0.25257324, 0.25032187, 0.25040233, 0.24670255]),\n array([0.25256384, 0.24872279, 0.25040503, 0.24830835]),\n array([0.2528927 , 0.24852441, 0.25167574, 0.24690715]),\n array([0.2522437 , 0.24780836, 0.25322355, 0.24672439]),\n array([0.2533398 , 0.24760487, 0.25134402, 0.24771131]),\n array([0.25406502, 0.25112071, 0.24786411, 0.24695016]),\n array([0.25177449, 0.2493167 , 0.2499472 , 0.2489616 ]),\n array([0.25427492, 0.24783153, 0.25072733, 0.24716622]),\n array([0.25042719, 0.25081211, 0.25033135, 0.24842935]),\n array([0.25247346, 0.24876024, 0.24975655, 0.24900976]),\n array([0.25378151, 0.24813987, 0.25006396, 0.24801466]),\n array([0.25309783, 0.25067579, 0.24806878, 0.2481576 ]),\n array([0.25214433, 0.24768535, 0.25296139, 0.24720893]),\n array([0.25319084, 0.24905572, 0.24947995, 0.2482735 ]),\n array([0.25353527, 0.24934009, 0.24896188, 0.24816275]),\n array([0.25311582, 0.24730626, 0.25188213, 0.2476958 ]),\n array([0.25333797, 0.24878569, 0.24983117, 0.24804516]),\n array([0.25096143, 0.25003213, 0.25101593, 0.24799051]),\n array([0.2512207 , 0.24864491, 0.25255453, 0.24757986]),\n array([0.25351429, 0.24875593, 0.24907992, 0.24864987]),\n array([0.25206969, 0.24754317, 0.25261805, 0.24776909]),\n array([0.25122568, 0.24942058, 0.25091358, 0.24844016]),\n array([0.25170089, 0.24785377, 0.25178874, 0.2486566 ]),\n array([0.25183227, 0.24709014, 0.25415361, 0.24692399]),\n array([0.25142791, 0.24930665, 0.25162727, 0.24763817]),\n array([0.25030054, 0.24710431, 0.25472589, 0.24786926]),\n array([0.25086726, 0.24664185, 0.25570658, 0.2467843 ]),\n array([0.25225311, 0.24805115, 0.25225012, 0.24744562]),\n array([0.25389552, 0.24976965, 0.24901854, 0.24731628]),\n array([0.25196042, 0.25026322, 0.24963893, 0.24813743]),\n array([0.25248089, 0.24902476, 0.25005879, 0.24843556]),\n array([0.25225986, 0.24931323, 0.2506379 , 0.24778902]),\n array([0.25097845, 0.24962099, 0.25141628, 0.24798428]),\n array([0.2508171 , 0.2503971 , 0.25120141, 0.24758439]),\n array([0.25576281, 0.24788822, 0.24984581, 0.24650316]),\n array([0.25054234, 0.24950203, 0.25226428, 0.24769135]),\n array([0.25237527, 0.24989335, 0.25043509, 0.24729629]),\n array([0.25381036, 0.24809068, 0.25022088, 0.24787807]),\n array([0.25297554, 0.24756512, 0.25178241, 0.24767693]),\n array([0.25067404, 0.2492785 , 0.25100927, 0.24903818]),\n array([0.25112784, 0.24684282, 0.2550154 , 0.24701395]),\n array([0.25458168, 0.24833108, 0.24798866, 0.24909858]),\n array([0.25160493, 0.2499266 , 0.24988487, 0.24858359]),\n array([0.25077636, 0.25075237, 0.25081632, 0.24765496]),\n array([0.25092544, 0.24928015, 0.25057426, 0.24922016]),\n array([0.25135252, 0.2490788 , 0.25160537, 0.2479633 ]),\n array([0.25361431, 0.24895672, 0.24944466, 0.24798432]),\n array([0.25425315, 0.24935172, 0.24875298, 0.24764215]),\n array([0.25427275, 0.24927845, 0.24941765, 0.24703116]),\n array([0.25151477, 0.24741228, 0.25297816, 0.24809479]),\n array([0.24996004, 0.24877528, 0.25410463, 0.24716006]),\n array([0.25473423, 0.24820005, 0.25035347, 0.24671225]),\n array([0.2536854 , 0.24851254, 0.25068785, 0.24711421]),\n array([0.25196993, 0.24798239, 0.25213882, 0.24790886]),\n array([0.25018761, 0.24877936, 0.25461965, 0.24641338]),\n array([0.25339302, 0.24901871, 0.2492132 , 0.24837507]),\n array([0.25261798, 0.24894408, 0.2508727 , 0.24756525]),\n array([0.24980363, 0.25110182, 0.25155727, 0.24753728]),\n array([0.25095128, 0.24951233, 0.25113087, 0.24840552]),\n array([0.25274981, 0.24833382, 0.25119998, 0.24771639]),\n array([0.25489875, 0.24866946, 0.2500893 , 0.24634249]),\n array([0.25339491, 0.24891622, 0.24904435, 0.24864452]),\n array([0.25084224, 0.24823632, 0.25327687, 0.24764456]),\n array([0.25122649, 0.24729297, 0.25519167, 0.24628886])]"
     },
     "execution_count": 105,
     "metadata": {},
     "output_type": "execute_result"
    }
   ],
   "source": [
    "verb_m1_bert"
   ],
   "metadata": {
    "collapsed": false,
    "ExecuteTime": {
     "end_time": "2024-05-12T04:21:59.382457Z",
     "start_time": "2024-05-12T04:21:59.366089Z"
    }
   },
   "id": "1a33c5211aa1b8c7",
   "execution_count": 105
  },
  {
   "cell_type": "code",
   "outputs": [
    {
     "data": {
      "text/plain": "<Figure size 1500x500 with 3 Axes>",
      "image/png": "[encoded data removed]"
     },
     "metadata": {},
     "output_type": "display_data"
    }
   ],
   "source": [
    "xlocations = range(len(data_groups))\n",
    "labels_list = ['Chinese BERT', 'mBERT', 'XLM-R', 'Chat-GLM']\n",
    "colors = ['#2C7BB6', '#F1948A', '#ABD9E9', '#E6B0AA']\n",
    "space = 0.2\n",
    "width = 0.15\n",
    "\n",
    "# Calculate group positions\n",
    "group_positions = []\n",
    "for num, dg in enumerate(data_groups):    \n",
    "    _off = (0 - space + (0.5 + num))\n",
    "    group_positions.append([x + _off * (width + 0.01) for x in xlocations])\n",
    "\n",
    "fig, axes = plt.subplots(nrows=1, ncols=3, figsize=(15, 5))\n",
    "\n",
    "for dg, pos, c in zip(data_groups, group_positions, colors):\n",
    "    boxes = axes[0].boxplot(dg,\n",
    "                       sym='.',  # Red plusses as fliers\n",
    "                       positions=pos, \n",
    "                       widths=width, \n",
    "                       boxprops=dict(linestyle='-', linewidth=1.5, color=c),\n",
    "                       medianprops=dict(color='grey', linestyle='-', linewidth=1.5),\n",
    "                       patch_artist=False,  # Do not fill with color\n",
    "                       whiskerprops={'linestyle': '-', 'color': 'black'},  # Custom whisker style\n",
    "                       capprops={'color': 'black'},  # Custom cap style\n",
    "                       flierprops={'marker': 'o', 'color': 'red', 'alpha': 0.5},  # Custom flier style\n",
    "                       )\n",
    "axes[0].set_xticks(xlocations)\n",
    "axes[0].set_xticklabels(labels_list, rotation=45)\n",
    "axes[0].set_title('Predicted Probabilities of Pronouns: Masculine vs. Feminine \\n Across Two Verb Orientation Groups',fontsize='small')\n",
    "\n",
    "\n",
    "for dg, pos, c in zip(data_groups1, group_positions, colors):\n",
    "    boxes = axes[1].boxplot(dg,\n",
    "                       sym='.',  # Red plusses as fliers\n",
    "                       positions=pos, \n",
    "                       widths=width, \n",
    "                       boxprops=dict(linestyle='-', linewidth=1.5, color=c),\n",
    "                       medianprops=dict(color='grey', linestyle='-', linewidth=1.5),\n",
    "                       patch_artist=False,  # Do not fill with color\n",
    "                       whiskerprops={'linestyle': '-', 'color': 'black'},  # Custom whisker style\n",
    "                       capprops={'color': 'black'},  # Custom cap style\n",
    "                       flierprops={'marker': 'o', 'color': 'red', 'alpha': 0.5},  # Custom flier style\n",
    "                       )\n",
    "axes[1].set_xticks(xlocations)\n",
    "axes[1].set_xticklabels(labels_list, rotation=45)\n",
    "axes[1].set_title('Predicted Probabilities of Pronouns: Masculine vs. Feminine \\n Across Two Ambiguous Binding Groups',fontsize='small')\n",
    "\n",
    "\n",
    "for dg, pos, c in zip(data_groups1, group_positions, colors):\n",
    "    boxes = axes[2].boxplot(dg,\n",
    "                       sym='.',  # Red plusses as fliers\n",
    "                       positions=pos, \n",
    "                       widths=width, \n",
    "                       boxprops=dict(linestyle='-', linewidth=1.5, color=c),\n",
    "                       medianprops=dict(color='grey', linestyle='-', linewidth=1.5),\n",
    "                       patch_artist=False,  # Do not fill with color\n",
    "                       whiskerprops={'linestyle': '-', 'color': 'black'},  # Custom whisker style\n",
    "                       capprops={'color': 'black'},  # Custom cap style\n",
    "                       flierprops={'marker': 'o', 'color': 'red', 'alpha': 0.5},  # Custom flier style\n",
    "                       )\n",
    "axes[2].set_xticks(xlocations)\n",
    "axes[2].set_xticklabels(labels_list, rotation=45)\n",
    "axes[2].set_title('Predicted Probabilities of Pronouns: Masculine vs. Feminine \\n Across Two Subject Orientation '\n",
    "                  'Groups', fontsize='small')\n",
    "\n",
    "# Customize x-ticks\n",
    "# \n",
    "# ax.set_xticklabels(labels_list, rotation=0)\n",
    "\n",
    "# Custom legend for colors\n",
    "plt.plot([], c='#2C7BB6', label='Masc pronoun (Masc First group)')\n",
    "plt.plot([], c='#F1948A', label='Fem pronoun (Masc First group)')\n",
    "plt.plot([], c='#ABD9E9', label='Masc pronoun (Fem First)')\n",
    "plt.plot([], c='#E6B0AA', label='Fem pronoun (Fem First)')\n",
    "plt.legend(title=\"Categories\", loc='upper right', fontsize='smaller')\n",
    "\n",
    "# plt.title('Predicted Probabilities of Masculine and Feminine Pronouns \\n in Two Groups of the Verb Orientation Setting')\n",
    "plt.ylabel('Value Distribution')\n",
    "# plt.grid(True, linestyle='--', alpha=0.6)  # Add grid lines for better readability\n",
    "# plt.tight.replace(\"grid(True, linestyle='--', alpha=0.6)\", \"grid(True, linestyle='--', alpha=0.5)\")\n",
    "fig.savefig('mascfem.pdf')\n",
    "plt.show()\n"
   ],
   "metadata": {
    "collapsed": false,
    "ExecuteTime": {
     "end_time": "2024-05-12T04:46:46.007064Z",
     "start_time": "2024-05-12T04:46:45.395186Z"
    }
   },
   "id": "795ed4819796ee1",
   "execution_count": 131
  },
  {
   "cell_type": "code",
   "outputs": [
    {
     "name": "stderr",
     "output_type": "stream",
     "text": [
      "100%|██████████| 10000/10000 [00:23<00:00, 432.19it/s]\n"
     ]
    }
   ],
   "source": [
    "import spacy\n",
    "from spacy.lang.zh.examples import sentences \n",
    "from pathlib import Path\n",
    "from tqdm import tqdm\n",
    "from collections import Counter\n",
    "sents = Path('data/Exm-2024-08-21-5497dfb69516b7f1.txt').read_text().strip().split('\\n')\n",
    "nlp = spacy.load(\"zh_core_web_sm\")\n",
    "sent_collection = []\n",
    "with open('data/filtered_sents2.txt', 'w') as fil:\n",
    "    for sent in tqdm(sents):\n",
    "        try:\n",
    "            doc = nlp(sent)\n",
    "            for sub_sent in doc.sents:\n",
    "                sub_text = [x.text for x in sub_sent]\n",
    "                if '自己' in sub_text:\n",
    "                    sub_poses = [token.pos_ for token in sub_sent]\n",
    "                    deps = [token.dep_ for token in sub_sent]\n",
    "                    ziji_index = sub_text.index('自己')\n",
    "                    # print(ziji_index)\n",
    "                    if sub_poses[ziji_index-1]!='PRON' and 'ccomp' in deps and Counter(deps)['nsubj']>0 and 'dobj' in deps[ziji_index]:\n",
    "                        ccomp_index = sorted([abs(i-ziji_index) for i, c in enumerate(deps) if c =='ccomp' and i<ziji_index])\n",
    "                        if ccomp_index and ccomp_index[0]<3:\n",
    "                            sub_text = ''.join(sub_text)\n",
    "                            sent_collection.append(sub_text)\n",
    "                            fil.write(f'{sub_text}\\n')\n",
    "                    elif sub_poses[ziji_index-1]!='PRON' and 'iobj' in deps and 'obj'in deps and Counter(deps)['nsubj']>0:\n",
    "                        \n",
    "                        sub_text = ''.join(sub_text)\n",
    "                        if sub_text not in sent_collection:\n",
    "                            fil.write(f'{sub_text}\\n')\n",
    "        except ValueError as e:\n",
    "            continue"
   ],
   "metadata": {
    "collapsed": false,
    "ExecuteTime": {
     "end_time": "2024-08-21T13:17:33.781241Z",
     "start_time": "2024-08-21T13:17:09.783606Z"
    }
   },
   "id": "fdd1a705eefc8438",
   "execution_count": 7
  },
  {
   "cell_type": "code",
   "outputs": [
    {
     "name": "stderr",
     "output_type": "stream",
     "text": [
      "  2%|▏         | 91/3978 [00:00<00:08, 451.68it/s]"
     ]
    },
    {
     "name": "stdout",
     "output_type": "stream",
     "text": [
      "不管他是否原谅他自己.\n",
      "赫尔曼问他自己。\n",
      "原始的欲又来了，一种百战不死的老兵；他唤醒他自己。\n",
      "他没有看见他自己。\n",
      "王德好象问他自己。\n",
      "他嘲笑他自己。\n",
      "不过这事全都怪他自己。”\n",
      "他只爱他自己。”\n",
      "他问他自己。\n",
      "雅夏问他自己。\n",
      "斯捷潘·阿尔卡季奇想到他自己。\n",
      "倘使有这种男人，也是他在欺骗他自己。\n",
      "这要看他自己。\n",
      "他不爱他自己。\n"
     ]
    },
    {
     "name": "stderr",
     "output_type": "stream",
     "text": [
      "  5%|▍         | 182/3978 [00:00<00:09, 412.94it/s]"
     ]
    },
    {
     "name": "stdout",
     "output_type": "stream",
     "text": [
      "雅夏问他自己。\n",
      "他问他自己。\n",
      "雅夏问他自己。\n",
      "他问他自己。\n",
      "他回答他自己。\n",
      "瑞宣认识他自己。\n",
      "他恨他自己，他轻视他自己。\n",
      "他问他自己。\n",
      "你不信问他自己。\n"
     ]
    },
    {
     "name": "stderr",
     "output_type": "stream",
     "text": [
      "  7%|▋         | 267/3978 [00:00<00:08, 414.82it/s]"
     ]
    },
    {
     "name": "stdout",
     "output_type": "stream",
     "text": [
      "以同样的方式，拥有认识自我的知识的人会认识他自己。\n",
      "每个人只能代表他自己。\n",
      "每个人只能代表他自己。\n",
      "林乃久问他自己。\n",
      "别这么心慌，雅夏尔，他劝他自己。\n",
      "雅夏问他自己。\n",
      "雅夏问他自己。\n"
     ]
    },
    {
     "name": "stderr",
     "output_type": "stream",
     "text": [
      "  9%|▉         | 351/3978 [00:00<00:09, 402.82it/s]"
     ]
    },
    {
     "name": "stdout",
     "output_type": "stream",
     "text": [
      "是相信我胜过相信他自己。\n",
      "“无端绪的想象，使他自己不免有点吓怕起来了。\n"
     ]
    },
    {
     "name": "stderr",
     "output_type": "stream",
     "text": [
      " 13%|█▎        | 522/3978 [00:01<00:08, 393.01it/s]"
     ]
    },
    {
     "name": "stdout",
     "output_type": "stream",
     "text": [
      "一开口说话，声音让他自己也吃了一惊。\n",
      "这声音使他自己也吃了一惊，他几乎没听出自己的声音陌生人友善地微微一笑，掏出一\n",
      "让他自己也吃惊的是，泪水刺痛了他的眼睛。\n",
      "他的这种感情使他自己也很惊讶；对于他这样一个人来说，能如此深刻地打动他，这是很不寻\n",
      "这使他自己也无法相信，甚至还拒绝承认，那就是：费尔米纳的虚幻的爱情，\n"
     ]
    },
    {
     "name": "stderr",
     "output_type": "stream",
     "text": [
      " 15%|█▌        | 614/3978 [00:01<00:07, 427.52it/s]"
     ]
    },
    {
     "name": "stdout",
     "output_type": "stream",
     "text": [
      "这使他自己也觉得年轻了，如果还有什么事情使他不高兴，那就是怕自己就要衰老\n",
      "不过，令他自己也觉惊讶的是，他竟然开始g享受其中的新鲜好玩。\n",
      "接下来，只等着大下巴的人介绍他自己了。\n",
      "王子在打扮他自己了。”\n",
      "那末，这十个美分就归他自己了。\n",
      "不过都因为事情太关乎他自己了。\n",
      "这时候他说到他自己了。\n",
      "既然家有信来，还是要好好替他打算一下，把利害说给他，取决当然在于他自己了，我离得这样远，关于他的情形，我总不能十分知道，上次你的信是\n",
      "谁叫他自己他妈的那么傻，都不知道这是星期六晚上，大伙儿不是外出度周末，就\n"
     ]
    },
    {
     "name": "stderr",
     "output_type": "stream",
     "text": [
      " 19%|█▉        | 748/3978 [00:01<00:07, 423.16it/s]"
     ]
    },
    {
     "name": "stdout",
     "output_type": "stream",
     "text": [
      "杰夫劝他自己保管，或者早点回家，以免那些不怀好意的庄稼汉钻进来骗了去。\n"
     ]
    },
    {
     "name": "stderr",
     "output_type": "stream",
     "text": [
      " 22%|██▏       | 885/3978 [00:02<00:07, 434.08it/s]"
     ]
    },
    {
     "name": "stdout",
     "output_type": "stream",
     "text": [
      "宰　相您问他自己去，听他回答您什么吧。\n",
      "接下来的六个星期都属于他自己可是女主人说：“噢，别急！\n",
      "他的空虚令他自己吃惊。\n"
     ]
    },
    {
     "name": "stderr",
     "output_type": "stream",
     "text": [
      " 24%|██▍       | 972/3978 [00:02<00:07, 417.12it/s]"
     ]
    },
    {
     "name": "stdout",
     "output_type": "stream",
     "text": [
      "“假如他说到他自己呢？”\n"
     ]
    },
    {
     "name": "stderr",
     "output_type": "stream",
     "text": [
      " 28%|██▊       | 1107/3978 [00:02<00:06, 413.92it/s]"
     ]
    },
    {
     "name": "stdout",
     "output_type": "stream",
     "text": [
      "我还告诉他自己在这里有几个亲戚——我现在不敢与他们相认，因他们不久便会知道我\n",
      "酒还让他自己堆起他一贯厌恶的笑脸，那种怀揣明白的功利目的与人瞎聊胡扯的笑脸\n",
      "这种想法可以使他自己好过一些，所以它有些好作用。\n"
     ]
    },
    {
     "name": "stderr",
     "output_type": "stream",
     "text": [
      " 33%|███▎      | 1310/3978 [00:03<00:07, 365.17it/s]"
     ]
    },
    {
     "name": "stdout",
     "output_type": "stream",
     "text": [
      "大家齐声请他自己开始用晚餐，莉莉拿着三个她专为他留下的土豆走过来。\n",
      "这使他自己很恐慌，也有头有尾的告诉别人，于是班中的空气时时紧张起来，而先\n"
     ]
    },
    {
     "name": "stderr",
     "output_type": "stream",
     "text": [
      " 35%|███▍      | 1386/3978 [00:03<00:07, 365.26it/s]"
     ]
    },
    {
     "name": "stdout",
     "output_type": "stream",
     "text": [
      "她不但告诉他自己想再度回到健治身边，还跟他提到有关健治有音乐才能的事。\n",
      "这能使他自己感着满足吗？\n",
      "可是想不到是这人回到他自己房里时，就告给校工即刻应当为Ａ教授找寻蜗牛的话。\n"
     ]
    },
    {
     "name": "stderr",
     "output_type": "stream",
     "text": [
      " 38%|███▊      | 1505/3978 [00:03<00:06, 377.26it/s]"
     ]
    },
    {
     "name": "stdout",
     "output_type": "stream",
     "text": [
      "这是盛特拉姆让他自己所率领的农民来战斗了。\n",
      "她让他自己找出去的路。\n",
      "可能照理他的地方，照理他一点儿，不能的地方就让他自己找路走，至于“被迫”，我也想不出来被什么所迫。\n",
      "格林先生让他自己担当起这里的一切任务，对各种事物、人等发号施令。\n"
     ]
    },
    {
     "name": "stderr",
     "output_type": "stream",
     "text": [
      " 45%|████▌     | 1806/3978 [00:04<00:05, 408.90it/s]"
     ]
    },
    {
     "name": "stdout",
     "output_type": "stream",
     "text": [
      "“我打算让他自己权衡一下利弊，一方面是偷窃的行为给他带来的一点点小利益，另一方\n",
      "一个新的疑问要求他自己来解答：为什么他这顾全各方的办法不为大家所信服？\n",
      "我让他自己来说吧，我如实地引用他所讲的一个故事。\n",
      "，伟大的，祥子，不知陪着人家送了多少回殡；不知道何时何地会埋起他自己来，埋起这堕落的，自私的，不幸的，社会病胎里的产儿，个人主义的\n",
      "王琦瑶让他自己泡茶，问他这些日子做什么，打不打桥牌，有没有分配工作的消息。\n"
     ]
    },
    {
     "name": "stderr",
     "output_type": "stream",
     "text": [
      " 50%|████▉     | 1984/3978 [00:04<00:04, 425.77it/s]"
     ]
    },
    {
     "name": "stdout",
     "output_type": "stream",
     "text": [
      "使善的事物成为他自己的。\n"
     ]
    },
    {
     "name": "stderr",
     "output_type": "stream",
     "text": [
      " 53%|█████▎    | 2114/3978 [00:05<00:04, 408.57it/s]"
     ]
    },
    {
     "name": "stdout",
     "output_type": "stream",
     "text": [
      "不过都因为事情太关乎他自己了。\n"
     ]
    },
    {
     "name": "stderr",
     "output_type": "stream",
     "text": [
      " 75%|███████▌  | 2994/3978 [00:07<00:02, 446.66it/s]"
     ]
    },
    {
     "name": "stdout",
     "output_type": "stream",
     "text": [
      "有时候他会好气他自己，用根棍于敲他自己的脚，或是拿他的头去撞石头什么的。\n"
     ]
    },
    {
     "name": "stderr",
     "output_type": "stream",
     "text": [
      " 81%|████████▏ | 3233/3978 [00:07<00:01, 466.30it/s]"
     ]
    },
    {
     "name": "stdout",
     "output_type": "stream",
     "text": [
      "“没有一分钟留给他自己的，”魏德尔太太叹道，“如果你知道他扛在肩膀上的东西有多少……\n",
      "通过使美的东西成为他自己的，他将得到什么呢？\n",
      "使善的事物成为他自己的。\n",
      "不过，这三天假日是属于他自己的，他要干自己想干的事。\n",
      "让他捡，如果他拿他自己的，而且心满意足，你就把另外两把全赠给他。\n"
     ]
    },
    {
     "name": "stderr",
     "output_type": "stream",
     "text": [
      " 85%|████████▍ | 3377/3978 [00:08<00:01, 455.46it/s]"
     ]
    },
    {
     "name": "stdout",
     "output_type": "stream",
     "text": [
      "他应该写他自己而不是克里斯塔尔……我辜负了他。\n",
      "去年5月8日的下午，蒙蒂教授曾记载他自己要在多尼咖啡店与罗伯特?莱布朗会面。\n"
     ]
    },
    {
     "name": "stderr",
     "output_type": "stream",
     "text": [
      " 90%|████████▉ | 3563/3978 [00:08<00:00, 449.21it/s]"
     ]
    },
    {
     "name": "stdout",
     "output_type": "stream",
     "text": [
      "你让他自己说，他会帮着我们说话；要是当面和他说破，他反而不敢帮我们——因\n"
     ]
    },
    {
     "name": "stderr",
     "output_type": "stream",
     "text": [
      " 92%|█████████▏| 3654/3978 [00:08<00:00, 438.76it/s]"
     ]
    },
    {
     "name": "stdout",
     "output_type": "stream",
     "text": [
      "有时他会把玩他自己送给我作礼物的蒙古墨水瓶。\n",
      "这让他自己都觉得不好意思了。\n"
     ]
    },
    {
     "name": "stderr",
     "output_type": "stream",
     "text": [
      " 93%|█████████▎| 3698/3978 [00:08<00:00, 432.82it/s]"
     ]
    },
    {
     "name": "stdout",
     "output_type": "stream",
     "text": [
      "他恨他自己！\n",
      "他只想到他自己！\n",
      "他只想到他自己！\n",
      "他问他自己，“怎么！\n",
      "“由于贫困，”陀思妥耶夫斯基说他自己，“我被迫为金钱而匆忙写作，所以接二连三地失败。”\n",
      "他问他自己，“说到头来，这是我的，我的……\n"
     ]
    },
    {
     "name": "stderr",
     "output_type": "stream",
     "text": [
      " 95%|█████████▍| 3778/3978 [00:09<00:00, 230.33it/s]"
     ]
    },
    {
     "name": "stdout",
     "output_type": "stream",
     "text": [
      "有保留在他印象中的完全，对于美人迟暮自不免兴一种感伤，但他若想想他自己，也到了一礼拜不修脸就不成样子的人，他就觉得未来生活渺茫，把自\n",
      "他恨他自己，什么本事也没有，连点力气都没有，到底是干什么的呢？\n",
      "振保突然提醒他自己，他正在挖空心思想出各种的理由，证明他为什么应当同这女人睡觉。\n",
      "同时，他更相信他自己，他的才识，他的胆气，他的体力以至容貌，毕竟胜于常人，好运\n",
      "“他到处炫示他自己，他的时髦衣服，他的四轮敞篷马车，通过这些，去教导人们懂得什么\n",
      "陪审员们以及仅仅从民谣和历史小说里吸收历史知识的一般人，他想起他自己，他自己也不是从布道词和法律里，而是从寓言、小说、诗歌里汲取生\n",
      "你剩下他自己，他觉得凄凉黯淡。\n",
      "他恨他自己，他轻视他自己。\n",
      "他问他自己，但是他没法回答。\n"
     ]
    },
    {
     "name": "stderr",
     "output_type": "stream",
     "text": [
      " 98%|█████████▊| 3881/3978 [00:09<00:00, 293.45it/s]"
     ]
    },
    {
     "name": "stdout",
     "output_type": "stream",
     "text": [
      "这也怪他自己，因为他拖拖拉拉，没有给安娜上紧宗教信仰这根弦。\n",
      "这些事全不在乎他自己，她！\n",
      "这要怨他自己，小狮子不平地说，我们的满腹苦水对谁诉?办理结婚登记手续，\n",
      "我父亲不爱谈他自己，我们也不问。\n",
      "听到大师兄这么贬低他自己，楚玄玄自然大感不满。\n"
     ]
    },
    {
     "name": "stderr",
     "output_type": "stream",
     "text": [
      "100%|██████████| 3978/3978 [00:09<00:00, 402.54it/s]"
     ]
    },
    {
     "name": "stdout",
     "output_type": "stream",
     "text": [
      "他问他自己，脑子里一片混乱。\n",
      "阿希礼用语言来禁闭他自己，这禁闭比任何监狱都牢固。\n",
      "克雷默尔立刻述说他自己，述说关于他自己的一切。\n",
      "其实所有人，包括他自己，都是男女欢好后的产物。\n",
      "但是，一个作者只能写他自己，难道不是真的吗？\n",
      "他说他自己：“我这人我问他一天能卖多少钱。\n",
      "他说他自己：“我这人我问他一天能卖多少钱。\n",
      "不起陛下，太对不起他的母亲，也太对不起他的夫人了，可是他尤其对不起他自己；他所失去的这位妻子，她的美貌足以使人间粉黛一齐失色，\n"
     ]
    },
    {
     "name": "stderr",
     "output_type": "stream",
     "text": [
      "\n"
     ]
    }
   ],
   "source": [
    "sents = Path('data/Exm-2024-08-09-89447889aa3c7b2a.txt').read_text().strip().split('\\n')\n",
    "with open('data/filtered_sents_local_m_binding.txt', 'w') as fil:\n",
    "    senttt =[]\n",
    "    for sent in tqdm(sents):\n",
    "        try:\n",
    "            doc = nlp(sent)\n",
    "            for sub_sent in doc.sents:\n",
    "                sub_text = [x.text for x in sub_sent]\n",
    "                if '自己' in sub_text:\n",
    "                    sub_poses = [token.pos_ for token in sub_sent]\n",
    "                    deps = [token.dep_ for token in sub_sent]\n",
    "                    ziji_index = sub_text.index('自己')\n",
    "                    if sub_text[ziji_index-1]=='他' and deps[ziji_index]=='dobj':\n",
    "                        if 'nsubj' in deps and 0<ziji_index-deps.index('nsubj')<5:\n",
    "                            text = ''.join(sub_text)\n",
    "                            print(text)\n",
    "                            if text not in senttt:\n",
    "                                fil.write(f'{text}\\n')\n",
    "                            senttt.append(text)       \n",
    "                            \n",
    "        except:\n",
    "            continue\n",
    "            \n",
    "          "
   ],
   "metadata": {
    "collapsed": false,
    "ExecuteTime": {
     "end_time": "2024-08-09T10:46:37.362945Z",
     "start_time": "2024-08-09T10:46:27.471915Z"
    }
   },
   "id": "133e49f48febb71a",
   "execution_count": 60
  },
  {
   "cell_type": "code",
   "outputs": [],
   "source": [],
   "metadata": {
    "collapsed": false
   },
   "id": "bd170d24d2bf193e"
  },
  {
   "cell_type": "code",
   "outputs": [],
   "source": [
    "female_words = [\"丈夫\", \"手\", \"胳膊\", \"女儿\", \"头发\", \"脸\", \"病\", \"眼睛\", \"身体\", \"父亲\", \"声音\", \"母亲\", \"心\", \"儿子\", \"学校\", \"头\", \"时候\", \"话\", \"人\",\"丈夫\", \"乳房\", \"美貌\", \"裙子\", \"胸脯\", \"面颊\", \"脑子\", \"卧室\", \"肚子\", \"笑容\", \"身材\", \"肉体\", \"容貌\", \"处境\", \"妈妈\", \"脸庞\", \"笑声\", \"举止\", \"形象\", \"脸蛋\", \"愿望\", \"照片\", \"关系\", \"姐姐\", \"爱人\", \"胸部\", \"欢心\", \"前额\"]\n",
    "male_words = [\"球\", \"妻子\", \"父亲\", \"同伙\", \"目光\", \"心\", \"母亲\", \"妈\", \"老人家\", \"家人\", \"脸\", \"媳妇\", \"手\", \"心目\", \"样子\", \"记忆\", \"生命\", \"爹\", \"屋子\", \"左手\", \"身子\", \"话\", \"双手\", \"烟\", \"诗\", \"意见\", \"头\", \"声音\", \"腰\", \"儿子\", \"印象\", \"作品\", \"山\", \"脚\", \"床\", \"衣服\", \"艺术\", \"病\", \"朋友\", \"眼睛\", \"父母\", \"时候\", \"大学\", \"事业\", \"车\", \"信\", \"记者\", \"钱\", \"门\", \"妻子\", \"儿子\", \"女儿\", \"父亲\", \"母亲\", \"父母\", \"作品\", \"房间\", \"马\", \"书\", \"太太\", \"帽子\", \"女人\", \"老婆\", \"情妇\", \"财产\", \"夫人\", \"哥哥\", \"兄弟\", \"诗\", \"狗\", \"伙伴\", \"敌人\", \"家庭\"]\n",
    "\n",
    "\n",
    "overlap = [x for x in female_words if x in male_words]\n",
    "\n",
    "female_exclusive = [x for x in female_words if x not in overlap]\n",
    "male_exclusive = [x for x in male_words if x not in overlap]"
   ],
   "metadata": {
    "collapsed": false,
    "ExecuteTime": {
     "end_time": "2024-08-07T03:28:17.587065Z",
     "start_time": "2024-08-07T03:28:17.551799Z"
    }
   },
   "id": "dac34a34c9f8f478",
   "execution_count": 28
  },
  {
   "cell_type": "code",
   "outputs": [
    {
     "name": "stdout",
     "output_type": "stream",
     "text": [
      "{'钱', '帽子', '诗', '马', '山', '父母', '记忆', '记者', '脚', '情妇', '财产', '印象', '生命', '目光', '衣服', '敌人', '事业', '妈', '伙伴', '大学', '屋子', '双手', '艺术', '老人家', '家人', '朋友', '球', '媳妇', '身子', '床', '信', '书', '左手', '太太', '家庭', '同伙', '妻子', '意见', '女人', '样子', '爹', '狗', '夫人', '作品', '兄弟', '车', '腰', '烟', '哥哥', '老婆', '心目', '门', '房间'}\n"
     ]
    }
   ],
   "source": [
    "print(set(male_exclusive))"
   ],
   "metadata": {
    "collapsed": false,
    "ExecuteTime": {
     "end_time": "2024-08-07T03:36:37.307816Z",
     "start_time": "2024-08-07T03:36:37.296954Z"
    }
   },
   "id": "867e6be2a3dcb77c",
   "execution_count": 32
  },
  {
   "cell_type": "code",
   "outputs": [
    {
     "name": "stdout",
     "output_type": "stream",
     "text": [
      "25\n"
     ]
    }
   ],
   "source": [
    "print(len(['钱',  '情妇', '财产', '印象', '生命', '目光', '敌人', '事业', '伙伴', '球', '媳妇', '床',  '太太', '家庭', '同伙', '妻子', '意见', '女人', '样子', '夫人', '作品', '兄弟', '车', '烟',  '老婆']))"
   ],
   "metadata": {
    "collapsed": false,
    "ExecuteTime": {
     "end_time": "2024-08-07T09:41:25.576196Z",
     "start_time": "2024-08-07T09:41:25.565806Z"
    }
   },
   "id": "71a81f302ec04e5b",
   "execution_count": 39
  },
  {
   "cell_type": "code",
   "outputs": [
    {
     "name": "stdout",
     "output_type": "stream",
     "text": [
      "25\n"
     ]
    }
   ],
   "source": [
    "print(len(['丈夫', '胳膊', '头发', '身体',  '美貌', '裙子', '胸脯', '面颊', '笑容', '身材', '肉体', '容貌', '处境', '脸庞', '笑声', '举止', '形象', '脸蛋', '愿望', '照片', '关系', '姐姐', '爱人',  '欢心', '前额']))"
   ],
   "metadata": {
    "collapsed": false,
    "ExecuteTime": {
     "end_time": "2024-08-07T09:35:10.897809Z",
     "start_time": "2024-08-07T09:35:10.893201Z"
    }
   },
   "id": "1662401679dd261c",
   "execution_count": 37
  },
  {
   "cell_type": "code",
   "outputs": [],
   "source": [
    "lb = Path('data/subject_orientation_m1.txt').read_text().strip().split('\\n')\n",
    "with open('data/subject_orientation_m1.txt', 'w') as rd:\n",
    "    for s in lb:\n",
    "        s+='。'\n",
    "        rd.write(f'{s}\\n')\n",
    "        "
   ],
   "metadata": {
    "collapsed": false,
    "ExecuteTime": {
     "end_time": "2024-08-08T13:39:34.780741Z",
     "start_time": "2024-08-08T13:39:34.774595Z"
    }
   },
   "id": "ef74832ee74dbb57",
   "execution_count": 46
  },
  {
   "cell_type": "code",
   "outputs": [],
   "source": [
    "annos = Path('data/subject_orientation_f1.txt').read_text().strip().split('\\n')\n",
    "sentences = [x.split()[0]+'。' for x in annos]\n",
    "annos2 = [x.split()[0] for x in Path('data/real_data_lb_name.txt').read_text().strip().split('\\n')]\n",
    "\n",
    "\n",
    "with open('data/subject_orientation_f1.txt', 'w') as in_verb:\n",
    "    for i, x in enumerate(sentences):\n",
    "        in_verb.write(x)\n",
    "        in_verb.write('\\n')\n",
    "    "
   ],
   "metadata": {
    "collapsed": false,
    "ExecuteTime": {
     "end_time": "2024-08-12T09:40:49.544965Z",
     "start_time": "2024-08-12T09:40:49.514759Z"
    }
   },
   "id": "4efc4eca415cf7ce",
   "execution_count": 69
  },
  {
   "cell_type": "code",
   "outputs": [],
   "source": [],
   "metadata": {
    "collapsed": false
   },
   "id": "2e67963e575292b2"
  }
 ],
 "metadata": {
  "kernelspec": {
   "display_name": "Python 3",
   "language": "python",
   "name": "python3"
  },
  "language_info": {
   "codemirror_mode": {
    "name": "ipython",
    "version": 2
   },
   "file_extension": ".py",
   "mimetype": "text/x-python",
   "name": "python",
   "nbconvert_exporter": "python",
   "pygments_lexer": "ipython2",
   "version": "2.7.6"
  }
 },
 "nbformat": 4,
 "nbformat_minor": 5
}
